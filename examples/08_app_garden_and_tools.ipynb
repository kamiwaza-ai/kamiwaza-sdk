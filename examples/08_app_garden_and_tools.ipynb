{
 "cells": [
  {
   "cell_type": "markdown",
   "metadata": {},
   "source": [
    "# App Garden and Tool Shed Management\n",
    "\n",
    "This notebook demonstrates how to list and manage deployed applications and Tool servers in Kamiwaza.\n",
    "\n",
    "## Overview\n",
    "\n",
    "Kamiwaza provides two deployment platforms:\n",
    "- **App Garden**: Deploy containerized applications (web apps, databases, etc.)\n",
    "- **Tool Shed**: Deploy MCP (Model Context Protocol) servers that provide tools to AI assistants\n",
    "\n",
    "Let's explore how to view what's currently deployed in your Kamiwaza instance."
   ]
  },
  {
   "cell_type": "markdown",
   "metadata": {},
   "source": "## Setup\n\nFirst, let's import the necessary libraries and initialize the Kamiwaza client.\n\n**Note on Authentication**: The Tool Shed endpoints require authentication, while App Garden endpoints do not. We'll use username/password authentication to access both services. The SDK automatically handles both Authorization headers and cookies for compatibility with different Kamiwaza endpoints.\n\nIn production, you should use environment variables or secure credential storage instead of hardcoding credentials."
  },
  {
   "cell_type": "code",
   "execution_count": null,
   "metadata": {},
   "outputs": [],
   "source": "from kamiwaza_client import KamiwazaClient\nfrom kamiwaza_client.authentication import UserPasswordAuthenticator\nimport os\nfrom datetime import datetime\n\n# Initialize the client without authentication first (needed for auth service)\nbase_url = os.getenv(\"KAMIWAZA_API_URI\", \"http://localhost:7777/api\")\nclient = KamiwazaClient(base_url=base_url)\n\n# Create authenticator with username/password\n# Note: In production, use environment variables or secure credential storage\nauthenticator = UserPasswordAuthenticator(\n    username=\"admin\",\n    password=\"kamiwaza\",\n    auth_service=client.auth\n)\n\n# Re-initialize client with authentication\nclient = KamiwazaClient(\n    base_url=base_url,\n    authenticator=authenticator\n)\n\nprint(f\"Connected to Kamiwaza at: {client.base_url}\")\nprint(\"✅ Authenticated as: admin\")"
  },
  {
   "cell_type": "markdown",
   "metadata": {},
   "source": [
    "## App Garden - List Deployed Applications\n",
    "\n",
    "The App Garden allows you to deploy containerized applications. Let's see what's currently running:"
   ]
  },
  {
   "cell_type": "code",
   "execution_count": null,
   "metadata": {},
   "outputs": [],
   "source": [
    "# List all deployed applications\n",
    "app_deployments = client.apps.list_deployments()\n",
    "\n",
    "print(f\"\\n🌱 App Garden - {len(app_deployments)} application(s) deployed:\\n\")\n",
    "\n",
    "if not app_deployments:\n",
    "    print(\"No applications currently deployed.\")\n",
    "else:\n",
    "    for app in app_deployments:\n",
    "        print(f\"📦 {app.name}\")\n",
    "        print(f\"   ID: {app.id}\")\n",
    "        print(f\"   Status: {app.status}\")\n",
    "        print(f\"   Created: {app.created_at.strftime('%Y-%m-%d %H:%M:%S')}\")\n",
    "        if app.deployed_at:\n",
    "            print(f\"   Deployed: {app.deployed_at.strftime('%Y-%m-%d %H:%M:%S')}\")\n",
    "        print(f\"   Instances: {app.min_copies} min, {app.max_copies or app.min_copies} max\")\n",
    "        \n",
    "        # Show instance details\n",
    "        instances = client.apps.list_instances(app.id)\n",
    "        if instances:\n",
    "            print(f\"   Running instances:\")\n",
    "            for inst in instances:\n",
    "                print(f\"     - {inst.host_name}:{inst.listen_port} (Status: {inst.status})\")\n",
    "        \n",
    "        print()"
   ]
  },
  {
   "cell_type": "markdown",
   "metadata": {},
   "source": [
    "## Tool Shed - List Deployed Tool Servers\n",
    "\n",
    "Tool servers provide MCP endpoints that AI assistants can use to access external capabilities:"
   ]
  },
  {
   "cell_type": "code",
   "execution_count": null,
   "metadata": {},
   "outputs": [],
   "source": [
    "# List all deployed Tool servers\n",
    "tool_deployments = client.tools.list_deployments()\n",
    "\n",
    "print(f\"\\n🔧 Tool Shed - {len(tool_deployments)} Tool server(s) deployed:\\n\")\n",
    "\n",
    "if not tool_deployments:\n",
    "    print(\"No Tool servers currently deployed.\")\n",
    "else:\n",
    "    for tool in tool_deployments:\n",
    "        print(f\"🛠️  {tool.name}\")\n",
    "        print(f\"   ID: {tool.id}\")\n",
    "        print(f\"   Status: {tool.status}\")\n",
    "        print(f\"   URL: {tool.url}\")\n",
    "        print(f\"   Created: {tool.created_at.strftime('%Y-%m-%d %H:%M:%S')}\")\n",
    "        \n",
    "        # Check health status\n",
    "        try:\n",
    "            health = client.tools.check_health(tool.id)\n",
    "            print(f\"   Health: {health.status}\")\n",
    "            if health.protocol_version:\n",
    "                print(f\"   Protocol: {health.protocol_version}\")\n",
    "        except Exception as e:\n",
    "            print(f\"   Health: Unable to check - {str(e)}\")\n",
    "        \n",
    "        print()"
   ]
  },
  {
   "cell_type": "markdown",
   "metadata": {},
   "source": [
    "## Discover All Tool Servers and Their Capabilities\n",
    "\n",
    "The discovery endpoint provides information about all Tool servers and their capabilities:"
   ]
  },
  {
   "cell_type": "code",
   "execution_count": null,
   "metadata": {},
   "outputs": [],
   "source": [
    "# Discover all Tool servers\n",
    "discovery = client.tools.discover_servers()\n",
    "\n",
    "print(f\"\\n🔍 Tool Server Discovery - {discovery.total} server(s) found:\\n\")\n",
    "\n",
    "for server in discovery.servers:\n",
    "    print(f\"🛠️  {server.name}\")\n",
    "    print(f\"   URL: {server.url}\")\n",
    "    print(f\"   Status: {server.status}\")\n",
    "    \n",
    "    if server.capabilities:\n",
    "        print(f\"   Capabilities:\")\n",
    "        for cap in server.capabilities:\n",
    "            desc = f\" - {cap.description}\" if cap.description else \"\"\n",
    "            print(f\"     • {cap.name}{desc}\")\n",
    "    else:\n",
    "        print(f\"   Capabilities: Not available\")\n",
    "    \n",
    "    print()"
   ]
  },
  {
   "cell_type": "markdown",
   "metadata": {},
   "source": [
    "## View Available Templates\n",
    "\n",
    "Let's see what applications and Tool servers are available to deploy:"
   ]
  },
  {
   "cell_type": "code",
   "execution_count": null,
   "metadata": {},
   "outputs": [],
   "source": [
    "# List available app templates\n",
    "app_templates = client.apps.list_templates()\n",
    "\n",
    "print(f\"\\n📋 Available App Templates ({len(app_templates)} total):\\n\")\n",
    "\n",
    "for template in app_templates[:5]:  # Show first 5\n",
    "    print(f\"• {template.name} (v{template.version or '1.0.0'})\")\n",
    "    if template.description:\n",
    "        print(f\"  {template.description[:100]}...\" if len(template.description) > 100 else f\"  {template.description}\")\n",
    "    print(f\"  Risk Tier: {template.risk_tier} | Verified: {template.verified}\")\n",
    "    print()\n",
    "\n",
    "if len(app_templates) > 5:\n",
    "    print(f\"... and {len(app_templates) - 5} more templates\")"
   ]
  },
  {
   "cell_type": "code",
   "execution_count": null,
   "metadata": {},
   "outputs": [],
   "source": [
    "# List available Tool templates\n",
    "tool_templates = client.tools.list_available_templates()\n",
    "\n",
    "print(f\"\\n🔧 Available Tool Templates ({len(tool_templates)} total):\\n\")\n",
    "\n",
    "for template in tool_templates:\n",
    "    print(f\"• {template['name']} (v{template['version']})\")\n",
    "    print(f\"  {template['description'][:100]}...\" if len(template['description']) > 100 else f\"  {template['description']}\")\n",
    "    print(f\"  Category: {template['category']}\")\n",
    "    print(f\"  Capabilities: {', '.join(template['capabilities'])}\")\n",
    "    if template['required_env_vars']:\n",
    "        print(f\"  Required env vars: {', '.join(template['required_env_vars'])}\")\n",
    "    print()"
   ]
  },
  {
   "cell_type": "markdown",
   "metadata": {},
   "source": [
    "## Summary Statistics\n",
    "\n",
    "Let's create a summary of the deployment status:"
   ]
  },
  {
   "cell_type": "code",
   "execution_count": null,
   "metadata": {},
   "outputs": [],
   "source": [
    "# Calculate summary statistics\n",
    "total_apps = len(app_deployments)\n",
    "total_tools = len(tool_deployments)\n",
    "running_apps = sum(1 for app in app_deployments if app.status == \"RUNNING\")\n",
    "running_tools = sum(1 for tool in tool_deployments if tool.status == \"RUNNING\")\n",
    "\n",
    "print(\"\\n📊 Deployment Summary:\\n\")\n",
    "print(f\"App Garden:\")\n",
    "print(f\"  Total deployments: {total_apps}\")\n",
    "print(f\"  Running: {running_apps}\")\n",
    "print(f\"  Other states: {total_apps - running_apps}\")\n",
    "print(f\"\\nTool Shed:\")\n",
    "print(f\"  Total deployments: {total_tools}\")\n",
    "print(f\"  Running: {running_tools}\")\n",
    "print(f\"  Other states: {total_tools - running_tools}\")\n",
    "print(f\"\\nTotal deployments across both services: {total_apps + total_tools}\")\n",
    "\n",
    "# Show deployment age\n",
    "if app_deployments or tool_deployments:\n",
    "    print(\"\\n⏱️  Deployment Ages:\")\n",
    "    \n",
    "    all_deployments = [(\"App\", d) for d in app_deployments] + [(\"Tool\", d) for d in tool_deployments]\n",
    "    all_deployments.sort(key=lambda x: x[1].created_at)\n",
    "    \n",
    "    for dep_type, dep in all_deployments:\n",
    "        age = datetime.now() - dep.created_at.replace(tzinfo=None)\n",
    "        days = age.days\n",
    "        hours = age.seconds // 3600\n",
    "        minutes = (age.seconds % 3600) // 60\n",
    "        \n",
    "        age_str = \"\"\n",
    "        if days > 0:\n",
    "            age_str = f\"{days}d {hours}h\"\n",
    "        elif hours > 0:\n",
    "            age_str = f\"{hours}h {minutes}m\"\n",
    "        else:\n",
    "            age_str = f\"{minutes}m\"\n",
    "            \n",
    "        print(f\"  [{dep_type}] {dep.name}: {age_str} old\")"
   ]
  },
  {
   "cell_type": "markdown",
   "metadata": {},
   "source": [
    "## Next Steps\n",
    "\n",
    "Now that you can see what's deployed, you can:\n",
    "\n",
    "1. **Deploy new applications**:\n",
    "   ```python\n",
    "   deployment = client.apps.deploy(\n",
    "       template_id=template.id,\n",
    "       name=\"my-app\",\n",
    "       env_vars={\"KEY\": \"value\"}\n",
    "   )\n",
    "   ```\n",
    "\n",
    "2. **Deploy Tool servers**:\n",
    "   ```python\n",
    "   tool = client.tools.deploy_from_template(\n",
    "       template_name=\"tool-websearch\",\n",
    "       name=\"search-tool\",\n",
    "       env_vars={\"TAVILY_API_KEY\": \"your-key\"}\n",
    "   )\n",
    "   ```\n",
    "\n",
    "3. **Stop deployments**:\n",
    "   ```python\n",
    "   client.apps.stop_deployment(deployment_id)\n",
    "   client.tools.stop_deployment(tool_id)\n",
    "   ```\n",
    "\n",
    "4. **Use Tool URLs with AI assistants** - The Tool URLs can be used with any MCP-compatible client.\n",
    "\n",
    "Happy deploying! 🚀"
   ]
  }
 ],
 "metadata": {
  "kernelspec": {
   "display_name": "Python 3",
   "language": "python",
   "name": "python3"
  },
  "language_info": {
   "codemirror_mode": {
    "name": "ipython",
    "version": 3
   },
   "file_extension": ".py",
   "mimetype": "text/x-python",
   "name": "python",
   "nbconvert_exporter": "python",
   "pygments_lexer": "ipython3",
   "version": "3.8.0"
  }
 },
 "nbformat": 4,
 "nbformat_minor": 4
}