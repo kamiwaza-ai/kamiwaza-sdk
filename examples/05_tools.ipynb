{
 "cells": [
  {
   "cell_type": "code",
   "execution_count": 1,
   "id": "92495f50-72d6-4181-863a-64578fb2cc61",
   "metadata": {},
   "outputs": [],
   "source": [
    "from kamiwaza_client import KamiwazaClient\n",
    "import openai\n",
    "from pydantic import BaseModel"
   ]
  },
  {
   "cell_type": "code",
   "execution_count": 2,
   "id": "45925bd1-e294-4e6f-a6bd-a8446e6ba5f7",
   "metadata": {},
   "outputs": [
    {
     "data": {
      "text/plain": [
       "[ActiveModelDeployment(id=UUID('acae8693-1373-4595-bdaa-7570d2fe9c05'), m_id=UUID('fce9ec25-c030-4db9-94f7-a4ee74cde344'), m_name='Qwen3-8B-GGUF', status='DEPLOYED', instances=[ModelInstance:\n",
       " ID: 73918ccc-a1e1-4e2b-8858-a28fb85c70e0\n",
       " Deployment ID: acae8693-1373-4595-bdaa-7570d2fe9c05\n",
       " Status: DEPLOYED\n",
       " Listen Port: 50375], lb_port=61100, endpoint='http://localhost:61100/v1')]"
      ]
     },
     "execution_count": 2,
     "metadata": {},
     "output_type": "execute_result"
    }
   ],
   "source": [
    "client = KamiwazaClient(\"http://localhost:7777/api/\")\n",
    "client.serving.list_active_deployments()"
   ]
  },
  {
   "cell_type": "code",
   "execution_count": 3,
   "id": "0e29f9b9-b838-476b-b974-6ff466fc6a61",
   "metadata": {},
   "outputs": [],
   "source": [
    "openai_client = client.openai.get_client('Qwen3-8B-GGUF')"
   ]
  },
  {
   "cell_type": "markdown",
   "id": "88e1551c-8a67-48cc-9f87-671ed5c1998c",
   "metadata": {},
   "source": [
    "## Define the runtime tool & its JSON schema\n",
    "We expose a dummy weather function so the demo is entirely self‑contained.\n"
   ]
  },
  {
   "cell_type": "code",
   "execution_count": 4,
   "id": "62c8853b-8024-475f-a696-1b9b0072195c",
   "metadata": {},
   "outputs": [
    {
     "name": "stdout",
     "output_type": "stream",
     "text": [
      "✅ Tool registered — ready for the chat call\n"
     ]
    },
    {
     "name": "stderr",
     "output_type": "stream",
     "text": [
      "/var/folders/yj/9j0gvmw94m78t21q_rkctb340000gn/T/ipykernel_38680/2537202073.py:28: PydanticDeprecatedSince20: The `schema` method is deprecated; use `model_json_schema` instead. Deprecated in Pydantic V2.0 to be removed in V3.0. See Pydantic V2 Migration Guide at https://errors.pydantic.dev/2.11/migration/\n",
      "  \"parameters\": WeatherParams.schema(),  # Pydantic → JSON Schema\n"
     ]
    }
   ],
   "source": [
    "from typing import Dict, Any\n",
    "import json, time\n",
    "from pydantic import BaseModel, Field\n",
    "\n",
    "class WeatherParams(BaseModel):\n",
    "    city: str = Field(..., description=\"City name\")\n",
    "    state: str = Field(..., description=\"US state abbreviation, e.g. CA\")\n",
    "    unit: str = Field(..., description=\"Either 'celsius' or 'fahrenheit'\")\n",
    "\n",
    "def get_current_weather(city: str, state: str, unit: str) -> Dict[str, Any]:\n",
    "    \"\"\"Pretend weather service so we don't need a real API call.\"\"\"\n",
    "    fake_temp_f = 100  # you could randomise this or call a real API\n",
    "    temp = fake_temp_f if unit == \"fahrenheit\" else round((fake_temp_f - 32) * 5 / 9)\n",
    "    time.sleep(0.3)  # small pause so the streaming looks lively\n",
    "    return {\n",
    "        \"temperature\": temp,\n",
    "        \"unit\": unit,\n",
    "        \"city\": city,\n",
    "        \"state\": state,\n",
    "        \"description\": \"clear skies with a light breeze\",\n",
    "    }\n",
    "\n",
    "weather_tool_schema = {\n",
    "    \"type\": \"function\",\n",
    "    \"function\": {\n",
    "        \"name\": \"get_current_weather\",\n",
    "        \"description\": \"Get the current weather in a given US city\",\n",
    "        \"parameters\": WeatherParams.schema(),  # Pydantic → JSON Schema\n",
    "    },\n",
    "}\n",
    "\n",
    "tools = [weather_tool_schema]\n",
    "\n",
    "local_tool_registry = {\"get_current_weather\": get_current_weather}\n",
    "print(\"✅ Tool registered — ready for the chat call\")\n"
   ]
  },
  {
   "cell_type": "markdown",
   "id": "8821199d-66e1-4d37-add3-4e5f44ae810b",
   "metadata": {},
   "source": [
    "## Kick off a streaming chat with tool support\n",
    "The system prompt asks the model to *think in public* using `<thinking>` \n",
    "tags, then decide whether to call the weather tool.\n"
   ]
  },
  {
   "cell_type": "code",
   "execution_count": 5,
   "id": "5a6377a2-d5e8-4ed0-92f4-a694266e5ed1",
   "metadata": {},
   "outputs": [
    {
     "name": "stderr",
     "output_type": "stream",
     "text": [
      "2025-08-08 11:06:30,551 - httpx - INFO - HTTP Request: POST http://localhost:61100/v1/chat/completions \"HTTP/1.1 200 OK\"\n"
     ]
    },
    {
     "name": "stdout",
     "output_type": "stream",
     "text": [
      "\n",
      "📡 **Streaming** — watch the tokens, tool call, and final answer arrive\n",
      "\n",
      "\u001b[36mOkay\u001b[0m\u001b[36m,\u001b[0m\u001b[36m the\u001b[0m\u001b[36m user\u001b[0m\u001b[36m is\u001b[0m\u001b[36m asking\u001b[0m\u001b[36m whether\u001b[0m\u001b[36m they\u001b[0m\u001b[36m should\u001b[0m\u001b[36m wear\u001b[0m\u001b[36m short\u001b[0m\u001b[36m sleeves\u001b[0m\u001b[36m or\u001b[0m\u001b[36m long\u001b[0m\u001b[36m sleeves\u001b[0m\u001b[36m in\u001b[0m\u001b[36m NYC\u001b[0m\u001b[36m today\u001b[0m\u001b[36m.\u001b[0m\u001b[36m To\u001b[0m\u001b[36m figure\u001b[0m\u001b[36m this\u001b[0m\u001b[36m out\u001b[0m\u001b[36m,\u001b[0m\u001b[36m I\u001b[0m\u001b[36m need\u001b[0m\u001b[36m to\u001b[0m\u001b[36m know\u001b[0m\u001b[36m the\u001b[0m\u001b[36m current\u001b[0m\u001b[36m weather\u001b[0m\u001b[36m in\u001b[0m\u001b[36m NYC\u001b[0m\u001b[36m.\u001b[0m\u001b[36m The\u001b[0m\u001b[36m tools\u001b[0m\u001b[36m provided\u001b[0m\u001b[36m include\u001b[0m\u001b[36m a\u001b[0m\u001b[36m function\u001b[0m\u001b[36m called\u001b[0m\u001b[36m get\u001b[0m\u001b[36m_current\u001b[0m\u001b[36m_weather\u001b[0m\u001b[36m,\u001b[0m\u001b[36m which\u001b[0m\u001b[36m requires\u001b[0m\u001b[36m the\u001b[0m\u001b[36m city\u001b[0m\u001b[36m,\u001b[0m\u001b[36m state\u001b[0m\u001b[36m,\u001b[0m\u001b[36m and\u001b[0m\u001b[36m unit\u001b[0m\u001b[36m (\u001b[0m\u001b[36mc\u001b[0m\u001b[36melsius\u001b[0m\u001b[36m or\u001b[0m\u001b[36m f\u001b[0m\u001b[36mahrenheit\u001b[0m\u001b[36m).\u001b[0m\u001b[36m \n",
      "\n",
      "First\u001b[0m\u001b[36m,\u001b[0m\u001b[36m I\u001b[0m\u001b[36m should\u001b[0m\u001b[36m check\u001b[0m\u001b[36m the\u001b[0m\u001b[36m parameters\u001b[0m\u001b[36m.\u001b[0m\u001b[36m The\u001b[0m\u001b[36m user\u001b[0m\u001b[36m mentioned\u001b[0m\u001b[36m NYC\u001b[0m\u001b[36m,\u001b[0m\u001b[36m so\u001b[0m\u001b[36m the\u001b[0m\u001b[36m city\u001b[0m\u001b[36m is\u001b[0m\u001b[36m \"\u001b[0m\u001b[36mNew\u001b[0m\u001b[36m York\u001b[0m\u001b[36m\"\u001b[0m\u001b[36m and\u001b[0m\u001b[36m the\u001b[0m\u001b[36m state\u001b[0m\u001b[36m is\u001b[0m\u001b[36m \"\u001b[0m\u001b[36mNY\u001b[0m\u001b[36m\".\u001b[0m\u001b[36m The\u001b[0m\u001b[36m unit\u001b[0m\u001b[36m isn\u001b[0m\u001b[36m't\u001b[0m\u001b[36m specified\u001b[0m\u001b[36m,\u001b[0m\u001b[36m but\u001b[0m\u001b[36m since\u001b[0m\u001b[36m the\u001b[0m\u001b[36m user\u001b[0m\u001b[36m is\u001b[0m\u001b[36m in\u001b[0m\u001b[36m the\u001b[0m\u001b[36m US\u001b[0m\u001b[36m,\u001b[0m\u001b[36m Fahrenheit\u001b[0m\u001b[36m is\u001b[0m\u001b[36m probably\u001b[0m\u001b[36m more\u001b[0m\u001b[36m common\u001b[0m\u001b[36m.\u001b[0m\u001b[36m However\u001b[0m\u001b[36m,\u001b[0m\u001b[36m the\u001b[0m\u001b[36m function\u001b[0m\u001b[36m allows\u001b[0m\u001b[36m for\u001b[0m\u001b[36m either\u001b[0m\u001b[36m,\u001b[0m\u001b[36m so\u001b[0m\u001b[36m I\u001b[0m\u001b[36m should\u001b[0m\u001b[36m specify\u001b[0m\u001b[36m one\u001b[0m\u001b[36m.\u001b[0m\u001b[36m Let\u001b[0m\u001b[36m's\u001b[0m\u001b[36m go\u001b[0m\u001b[36m with\u001b[0m\u001b[36m Fahrenheit\u001b[0m\u001b[36m as\u001b[0m\u001b[36m it\u001b[0m\u001b[36m's\u001b[0m\u001b[36m standard\u001b[0m\u001b[36m in\u001b[0m\u001b[36m the\u001b[0m\u001b[36m US\u001b[0m\u001b[36m.\u001b[0m\u001b[36m\n",
      "\n",
      "So\u001b[0m\u001b[36m,\u001b[0m\u001b[36m I\u001b[0m\u001b[36m need\u001b[0m\u001b[36m to\u001b[0m\u001b[36m call\u001b[0m\u001b[36m get\u001b[0m\u001b[36m_current\u001b[0m\u001b[36m_weather\u001b[0m\u001b[36m with\u001b[0m\u001b[36m city\u001b[0m\u001b[36m:\u001b[0m\u001b[36m \"\u001b[0m\u001b[36mNew\u001b[0m\u001b[36m York\u001b[0m\u001b[36m\",\u001b[0m\u001b[36m state\u001b[0m\u001b[36m:\u001b[0m\u001b[36m \"\u001b[0m\u001b[36mNY\u001b[0m\u001b[36m\",\u001b[0m\u001b[36m unit\u001b[0m\u001b[36m:\u001b[0m\u001b[36m \"\u001b[0m\u001b[36mf\u001b[0m\u001b[36mahrenheit\u001b[0m\u001b[36m\".\u001b[0m\u001b[36m Once\u001b[0m\u001b[36m I\u001b[0m\u001b[36m get\u001b[0m\u001b[36m the\u001b[0m\u001b[36m temperature\u001b[0m\u001b[36m,\u001b[0m\u001b[36m I\u001b[0m\u001b[36m can\u001b[0m\u001b[36m advise\u001b[0m\u001b[36m the\u001b[0m\u001b[36m user\u001b[0m\u001b[36m.\u001b[0m\u001b[36m If\u001b[0m\u001b[36m it\u001b[0m\u001b[36m's\u001b[0m\u001b[36m above\u001b[0m\u001b[36m 7\u001b[0m\u001b[36m5\u001b[0m\u001b[36m°F\u001b[0m\u001b[36m,\u001b[0m\u001b[36m short\u001b[0m\u001b[36m sleeves\u001b[0m\u001b[36m would\u001b[0m\u001b[36m be\u001b[0m\u001b[36m fine\u001b[0m\u001b[36m.\u001b[0m\u001b[36m If\u001b[0m\u001b[36m it\u001b[0m\u001b[36m's\u001b[0m\u001b[36m cooler\u001b[0m\u001b[36m,\u001b[0m\u001b[36m maybe\u001b[0m\u001b[36m around\u001b[0m\u001b[36m 6\u001b[0m\u001b[36m5\u001b[0m\u001b[36m-\u001b[0m\u001b[36m7\u001b[0m\u001b[36m5\u001b[0m\u001b[36m,\u001b[0m\u001b[36m a\u001b[0m\u001b[36m light\u001b[0m\u001b[36m sweater\u001b[0m\u001b[36m might\u001b[0m\u001b[36m be\u001b[0m\u001b[36m good\u001b[0m\u001b[36m.\u001b[0m\u001b[36m Below\u001b[0m\u001b[36m 6\u001b[0m\u001b[36m5\u001b[0m\u001b[36m,\u001b[0m\u001b[36m long\u001b[0m\u001b[36m sleeves\u001b[0m\u001b[36m would\u001b[0m\u001b[36m be\u001b[0m\u001b[36m better\u001b[0m\u001b[36m.\u001b[0m\u001b[36m But\u001b[0m\u001b[36m I\u001b[0m\u001b[36m should\u001b[0m\u001b[36m wait\u001b[0m\u001b[36m for\u001b[0m\u001b[36m the\u001b[0m\u001b[36m actual\u001b[0m\u001b[36m data\u001b[0m\u001b[36m to\u001b[0m\u001b[36m give\u001b[0m\u001b[36m a\u001b[0m\u001b[36m precise\u001b[0m\u001b[36m answer\u001b[0m\u001b[36m.\u001b[0m\u001b[36m Let\u001b[0m\u001b[36m me\u001b[0m\u001b[36m make\u001b[0m\u001b[36m the\u001b[0m\u001b[36m function\u001b[0m\u001b[36m call\u001b[0m\u001b[36m.\u001b[0m\n",
      "\n",
      "🔧 Model requested tool: get_current_weather\n",
      "   with args: {'city': 'New York', 'state': 'NY', 'unit': 'fahrenheit'}\n"
     ]
    },
    {
     "name": "stderr",
     "output_type": "stream",
     "text": [
      "2025-08-08 11:06:38,202 - httpx - INFO - HTTP Request: POST http://localhost:61100/v1/chat/completions \"HTTP/1.1 200 OK\"\n"
     ]
    },
    {
     "name": "stdout",
     "output_type": "stream",
     "text": [
      "🔧 Tool response: {'temperature': 100, 'unit': 'fahrenheit', 'city': 'New York', 'state': 'NY', 'description': 'clear skies with a light breeze'}\n",
      "\n",
      "\n",
      "💭 Getting final answer...\n",
      "\n",
      "\u001b[36mOkay\u001b[0m\u001b[36m,\u001b[0m\u001b[36m the\u001b[0m\u001b[36m user\u001b[0m\u001b[36m is\u001b[0m\u001b[36m asking\u001b[0m\u001b[36m whether\u001b[0m\u001b[36m to\u001b[0m\u001b[36m wear\u001b[0m\u001b[36m short\u001b[0m\u001b[36m sleeves\u001b[0m\u001b[36m or\u001b[0m\u001b[36m long\u001b[0m\u001b[36m sleeves\u001b[0m\u001b[36m in\u001b[0m\u001b[36m NYC\u001b[0m\u001b[36m today\u001b[0m\u001b[36m.\u001b[0m\u001b[36m I\u001b[0m\u001b[36m need\u001b[0m\u001b[36m to\u001b[0m\u001b[36m check\u001b[0m\u001b[36m the\u001b[0m\u001b[36m current\u001b[0m\u001b[36m weather\u001b[0m\u001b[36m for\u001b[0m\u001b[36m New\u001b[0m\u001b[36m York\u001b[0m\u001b[36m.\u001b[0m\u001b[36m The\u001b[0m\u001b[36m tool\u001b[0m\u001b[36m response\u001b[0m\u001b[36m came\u001b[0m\u001b[36m back\u001b[0m\u001b[36m with\u001b[0m\u001b[36m a\u001b[0m\u001b[36m temperature\u001b[0m\u001b[36m of\u001b[0m\u001b[36m 1\u001b[0m\u001b[36m0\u001b[0m\u001b[36m0\u001b[0m\u001b[36m°F\u001b[0m\u001b[36m,\u001b[0m\u001b[36m clear\u001b[0m\u001b[36m skies\u001b[0m\u001b[36m,\u001b[0m\u001b[36m and\u001b[0m\u001b[36m a\u001b[0m\u001b[36m light\u001b[0m\u001b[36m breeze\u001b[0m\u001b[36m.\u001b[0m\u001b[36m \n",
      "\n",
      "First\u001b[0m\u001b[36m,\u001b[0m\u001b[36m 1\u001b[0m\u001b[36m0\u001b[0m\u001b[36m0\u001b[0m\u001b[36m°F\u001b[0m\u001b[36m is\u001b[0m\u001b[36m quite\u001b[0m\u001b[36m hot\u001b[0m\u001b[36m.\u001b[0m\u001b[36m Typically\u001b[0m\u001b[36m,\u001b[0m\u001b[36m when\u001b[0m\u001b[36m it\u001b[0m\u001b[36m's\u001b[0m\u001b[36m that\u001b[0m\u001b[36m warm\u001b[0m\u001b[36m,\u001b[0m\u001b[36m short\u001b[0m\u001b[36m sleeves\u001b[0m\u001b[36m are\u001b[0m\u001b[36m more\u001b[0m\u001b[36m comfortable\u001b[0m\u001b[36m.\u001b[0m\u001b[36m But\u001b[0m\u001b[36m I\u001b[0m\u001b[36m should\u001b[0m\u001b[36m consider\u001b[0m\u001b[36m other\u001b[0m\u001b[36m factors\u001b[0m\u001b[36m.\u001b[0m\u001b[36m The\u001b[0m\u001b[36m description\u001b[0m\u001b[36m mentions\u001b[0m\u001b[36m clear\u001b[0m\u001b[36m skies\u001b[0m\u001b[36m,\u001b[0m\u001b[36m so\u001b[0m\u001b[36m probably\u001b[0m\u001b[36m sunny\u001b[0m\u001b[36m.\u001b[0m\u001b[36m No\u001b[0m\u001b[36m mention\u001b[0m\u001b[36m of\u001b[0m\u001b[36m humidity\u001b[0m\u001b[36m,\u001b[0m\u001b[36m but\u001b[0m\u001b[36m even\u001b[0m\u001b[36m if\u001b[0m\u001b[36m it\u001b[0m\u001b[36m's\u001b[0m\u001b[36m dry\u001b[0m\u001b[36m,\u001b[0m\u001b[36m 1\u001b[0m\u001b[36m0\u001b[0m\u001b[36m0\u001b[0m\u001b[36m°F\u001b[0m\u001b[36m is\u001b[0m\u001b[36m still\u001b[0m\u001b[36m very\u001b[0m\u001b[36m hot\u001b[0m\u001b[36m.\u001b[0m\u001b[36m A\u001b[0m\u001b[36m light\u001b[0m\u001b[36m breeze\u001b[0m\u001b[36m might\u001b[0m\u001b[36m help\u001b[0m\u001b[36m with\u001b[0m\u001b[36m the\u001b[0m\u001b[36m heat\u001b[0m\u001b[36m a\u001b[0m\u001b[36m bit\u001b[0m\u001b[36m,\u001b[0m\u001b[36m but\u001b[0m\u001b[36m it\u001b[0m\u001b[36m's\u001b[0m\u001b[36m not\u001b[0m\u001b[36m enough\u001b[0m\u001b[36m to\u001b[0m\u001b[36m make\u001b[0m\u001b[36m long\u001b[0m\u001b[36m sleeves\u001b[0m\u001b[36m necessary\u001b[0m\u001b[36m.\u001b[0m\u001b[36m\n",
      "\n",
      "I\u001b[0m\u001b[36m should\u001b[0m\u001b[36m also\u001b[0m\u001b[36m think\u001b[0m\u001b[36m about\u001b[0m\u001b[36m what\u001b[0m\u001b[36m's\u001b[0m\u001b[36m typical\u001b[0m\u001b[36m for\u001b[0m\u001b[36m NYC\u001b[0m\u001b[36m in\u001b[0m\u001b[36m such\u001b[0m\u001b[36m weather\u001b[0m\u001b[36m.\u001b[0m\u001b[36m People\u001b[0m\u001b[36m usually\u001b[0m\u001b[36m wear\u001b[0m\u001b[36m light\u001b[0m\u001b[36m clothing\u001b[0m\u001b[36m.\u001b[0m\u001b[36m Maybe\u001b[0m\u001b[36m suggest\u001b[0m\u001b[36m short\u001b[0m\u001b[36m sleeves\u001b[0m\u001b[36m and\u001b[0m\u001b[36m mention\u001b[0m\u001b[36m staying\u001b[0m\u001b[36m hydrated\u001b[0m\u001b[36m.\u001b[0m\u001b[36m Also\u001b[0m\u001b[36m,\u001b[0m\u001b[36m maybe\u001b[0m\u001b[36m a\u001b[0m\u001b[36m light\u001b[0m\u001b[36m jacket\u001b[0m\u001b[36m if\u001b[0m\u001b[36m there\u001b[0m\u001b[36m's\u001b[0m\u001b[36m a\u001b[0m\u001b[36m chance\u001b[0m\u001b[36m of\u001b[0m\u001b[36m cooling\u001b[0m\u001b[36m down\u001b[0m\u001b[36m later\u001b[0m\u001b[36m,\u001b[0m\u001b[36m but\u001b[0m\u001b[36m the\u001b[0m\u001b[36m current\u001b[0m\u001b[36m weather\u001b[0m\u001b[36m seems\u001b[0m\u001b[36m consistent\u001b[0m\u001b[36m.\u001b[0m\u001b[36m So\u001b[0m\u001b[36m the\u001b[0m\u001b[36m answer\u001b[0m\u001b[36m should\u001b[0m\u001b[36m recommend\u001b[0m\u001b[36m short\u001b[0m\u001b[36m sleeves\u001b[0m\u001b[36m and\u001b[0m\u001b[36m explain\u001b[0m\u001b[36m why\u001b[0m\u001b[36m,\u001b[0m\u001b[36m based\u001b[0m\u001b[36m on\u001b[0m\u001b[36m the\u001b[0m\u001b[36m temperature\u001b[0m\u001b[36m and\u001b[0m\u001b[36m conditions\u001b[0m\u001b[36m.\u001b[0mBased on the current weather in New York (100°F with clear skies and a light breeze), **short sleeves are the best choice**. The heat index is high, so opt for breathable, lightweight clothing to stay cool. Stay hydrated and consider a light scarf or hat for sun protection! 🌞\n",
      "\n",
      "🎉 **Done!**\n"
     ]
    }
   ],
   "source": [
    "messages = [\n",
    "    {\n",
    "        \"role\": \"system\",\n",
    "        \"content\": (\n",
    "            \"You are a helpful assistant. When you receive tool outputs, \"\n",
    "            \"always provide a complete and helpful final answer to the user's question. \"\n",
    "            \"Be conversational and provide practical advice.\"\n",
    "        ),\n",
    "    },\n",
    "    {\n",
    "        \"role\": \"user\",\n",
    "        \"content\": \"should i wear short sleeves or long sleeves in nyc today?\",\n",
    "    },\n",
    "]\n",
    "\n",
    "print(\"\\n📡 **Streaming** — watch the tokens, tool call, and final answer arrive\\n\")\n",
    "\n",
    "# First API call with tools\n",
    "response_stream = openai_client.chat.completions.create(\n",
    "    model=\"model\", \n",
    "    messages=messages,\n",
    "    tools=tools,\n",
    "    tool_choice=\"auto\",  # Let the model decide when to use tools\n",
    "    stream=True,\n",
    ")\n",
    "\n",
    "# Track tool calls as they stream in\n",
    "tool_calls = []\n",
    "current_tool_call = None\n",
    "accumulated_content = \"\"\n",
    "\n",
    "for chunk in response_stream:\n",
    "    if not chunk.choices:\n",
    "        continue\n",
    "    \n",
    "    choice = chunk.choices[0]\n",
    "    delta = choice.delta\n",
    "    \n",
    "    # Handle reasoning content (if your model supports it)\n",
    "    if hasattr(delta, \"reasoning_content\") and delta.reasoning_content:\n",
    "        print(\"\\033[36m\" + delta.reasoning_content + \"\\033[0m\", end=\"\", flush=True)\n",
    "    \n",
    "    # Handle regular content\n",
    "    if delta.content:\n",
    "        accumulated_content += delta.content\n",
    "        print(delta.content, end=\"\", flush=True)\n",
    "    \n",
    "    # Handle tool calls\n",
    "    if delta.tool_calls:\n",
    "        for tc_delta in delta.tool_calls:\n",
    "            # Start a new tool call\n",
    "            if tc_delta.index == 0 and not current_tool_call:\n",
    "                current_tool_call = {\n",
    "                    \"id\": tc_delta.id or f\"call_{uuid.uuid4().hex[:8]}\",\n",
    "                    \"type\": \"function\",\n",
    "                    \"function\": {\n",
    "                        \"name\": tc_delta.function.name,\n",
    "                        \"arguments\": \"\"\n",
    "                    }\n",
    "                }\n",
    "            \n",
    "            # Accumulate arguments\n",
    "            if tc_delta.function.arguments:\n",
    "                current_tool_call[\"function\"][\"arguments\"] += tc_delta.function.arguments\n",
    "\n",
    "# Execute tool calls if any\n",
    "if choice.finish_reason == \"tool_calls\" and current_tool_call:\n",
    "    print(f\"\\n\\n🔧 Model requested tool: {current_tool_call['function']['name']}\")\n",
    "    \n",
    "    # Parse arguments and execute\n",
    "    args = json.loads(current_tool_call[\"function\"][\"arguments\"])\n",
    "    print(f\"   with args: {args}\")\n",
    "    \n",
    "    tool_name = current_tool_call[\"function\"][\"name\"]\n",
    "    tool_result = local_tool_registry[tool_name](**args)\n",
    "    print(f\"🔧 Tool response: {tool_result}\")\n",
    "    \n",
    "    # Add the assistant's tool call message\n",
    "    messages.append({\n",
    "        \"role\": \"assistant\",\n",
    "        \"content\": accumulated_content if accumulated_content else None,\n",
    "        \"tool_calls\": [current_tool_call]\n",
    "    })\n",
    "    \n",
    "    # Add the tool response\n",
    "    messages.append({\n",
    "        \"role\": \"tool\",\n",
    "        \"tool_call_id\": current_tool_call[\"id\"],\n",
    "        \"name\": tool_name,\n",
    "        \"content\": json.dumps(tool_result)\n",
    "    })\n",
    "    \n",
    "    # Make a follow-up call to get the final answer\n",
    "    print(\"\\n\\n💭 Getting final answer...\\n\")\n",
    "    \n",
    "    follow_stream = openai_client.chat.completions.create(\n",
    "        model=\"model\",\n",
    "        messages=messages,\n",
    "        stream=True,\n",
    "        # No tools this time - we want a final answer\n",
    "    )\n",
    "    \n",
    "    # Stream the final response\n",
    "    for follow_chunk in follow_stream:\n",
    "        if not follow_chunk.choices:\n",
    "            continue\n",
    "        \n",
    "        follow_choice = follow_chunk.choices[0]\n",
    "        follow_delta = follow_choice.delta\n",
    "        \n",
    "        # Handle reasoning content\n",
    "        if hasattr(follow_delta, \"reasoning_content\") and follow_delta.reasoning_content:\n",
    "            print(\"\\033[36m\" + follow_delta.reasoning_content + \"\\033[0m\", end=\"\", flush=True)\n",
    "        \n",
    "        # Handle final answer content\n",
    "        if follow_delta.content:\n",
    "            print(follow_delta.content, end=\"\", flush=True)\n",
    "    \n",
    "    print(\"\\n\\n🎉 **Done!**\")\n",
    "\n",
    "# If no tool was called, we're done\n",
    "elif choice.finish_reason == \"stop\":\n",
    "    print(\"\\n\\n🎉 **Done!** (No tool calls needed)\")"
   ]
  },
  {
   "cell_type": "code",
   "execution_count": null,
   "id": "77f18a82-683b-4860-8b3e-a7e6b27988b8",
   "metadata": {},
   "outputs": [],
   "source": []
  }
 ],
 "metadata": {
  "kernelspec": {
   "display_name": "Python 3 (ipykernel)",
   "language": "python",
   "name": "python3"
  },
  "language_info": {
   "codemirror_mode": {
    "name": "ipython",
    "version": 3
   },
   "file_extension": ".py",
   "mimetype": "text/x-python",
   "name": "python",
   "nbconvert_exporter": "python",
   "pygments_lexer": "ipython3",
   "version": "3.10.12"
  }
 },
 "nbformat": 4,
 "nbformat_minor": 5
}
