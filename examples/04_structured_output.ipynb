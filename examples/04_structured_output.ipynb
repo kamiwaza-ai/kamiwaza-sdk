{
 "cells": [
  {
   "cell_type": "markdown",
   "id": "b9f1a3c8-1edf-4c38-af8c-7ecb2182e0fa",
   "metadata": {},
   "source": [
    "# Structured Output with Kamiwaza Models\n",
    "\n",
    "This notebook demonstrates how to use Kamiwaza's OpenAI-compatible interface to generate structured outputs from language models. With this feature, you can ensure model responses adhere to a specific JSON schema, making it easier to integrate model outputs directly into your applications.\n",
    "\n",
    "Kamiwaza's implementation is compatible with OpenAI's structured output feature, so you can use the same code patterns you're already familiar with."
   ]
  },
  {
   "cell_type": "markdown",
   "id": "41a74032-0cad-4f69-9e54-4d03c1c3ec1a",
   "metadata": {},
   "source": [
    "## Setup\n",
    "\n",
    "First, we'll import the necessary libraries and setup our client. We'll need:\n",
    "- `KamiwazaClient` to connect to our local Kamiwaza server\n",
    "- OpenAI's Python SDK for the structured output functionality\n",
    "- Pydantic for defining our data models"
   ]
  },
  {
   "cell_type": "code",
   "execution_count": 11,
   "id": "ae08b408-c0f0-46c4-9578-90775a86e157",
   "metadata": {},
   "outputs": [],
   "source": [
    "from kamiwaza_client import KamiwazaClient\n",
    "import openai\n",
    "from pydantic import BaseModel"
   ]
  },
  {
   "cell_type": "markdown",
   "id": "3b773ecc-c588-49ec-a07f-67fc20566964",
   "metadata": {},
   "source": [
    "## Deploy a Model\n",
    "\n",
    "We'll download and deploy a Qwen model using Kamiwaza, then create an OpenAI-compatible client to interact with it."
   ]
  },
  {
   "cell_type": "code",
   "execution_count": 12,
   "id": "b25f371b-f8a7-4d6d-96a4-e0920cb80e13",
   "metadata": {},
   "outputs": [
    {
     "name": "stdout",
     "output_type": "stream",
     "text": [
      "Initiating download for Qwen/Qwen2.5-7B-Instruct-GGUF with quantization q6_k...\n",
      "Model files for Qwen/Qwen2.5-7B-Instruct-GGUF are already downloaded.\n",
      "Deploying model Qwen/Qwen2.5-7B-Instruct-GGUF...\n",
      "Model Qwen/Qwen2.5-7B-Instruct-GGUF successfully deployed!\n"
     ]
    }
   ],
   "source": [
    "client = KamiwazaClient(\"http://localhost:7777/api/\")\n",
    "hf_repo = 'Qwen/Qwen2.5-7B-Instruct-GGUF'\n",
    "client.models.download_and_deploy_model(hf_repo)\n",
    "openai_client = client.openai.get_client(repo_id=hf_repo)"
   ]
  },
  {
   "cell_type": "markdown",
   "id": "c602ad78-7abc-4b7f-b9a9-325d359c5df0",
   "metadata": {},
   "source": [
    "## Basic Testing\n",
    "\n",
    "Let's first confirm our model is working with a simple test - the same \"How many r's in strawberry?\" question we used in our evaluation notebook."
   ]
  },
  {
   "cell_type": "code",
   "execution_count": 13,
   "id": "6c54e97c-5664-4d4f-900b-fc030d6f6f69",
   "metadata": {},
   "outputs": [
    {
     "name": "stderr",
     "output_type": "stream",
     "text": [
      "2025-03-07 15:06:36,780 - httpx - INFO - HTTP Request: POST http://localhost:51135/v1/chat/completions \"HTTP/1.1 200 OK\"\n"
     ]
    },
    {
     "name": "stdout",
     "output_type": "stream",
     "text": [
      "3"
     ]
    }
   ],
   "source": [
    "# Create a streaming chat completion\n",
    "response = openai_client.chat.completions.create(\n",
    "    messages=[\n",
    "        {\"role\": \"user\", \"content\": \"How many r's are in the word 'strawberry'? ONLY RESPOND WITH A SINGLE NUMBER\"}\n",
    "    ],\n",
    "    model=\"model\",\n",
    "    stream=True \n",
    ")\n",
    "\n",
    "# display the stream\n",
    "for chunk in response:\n",
    "    if chunk.choices[0].delta.content is not None:\n",
    "        print(chunk.choices[0].delta.content, end=\"\", flush=True)\n"
   ]
  },
  {
   "cell_type": "markdown",
   "id": "ac86a1eb-46dd-40b2-9007-14d6a9dac9d8",
   "metadata": {},
   "source": [
    "## Structured Output Example\n",
    "\n",
    "Now let's try using structured output. We'll define a `CalendarEvent` class using Pydantic that specifies the schema we want our response to follow.\n",
    "\n",
    "When we use `beta.chat.completions.parse()` instead of the regular `chat.completions.create()`, we instruct the model to return a response that fits our specified schema. The OpenAI-compatible client handles parsing the response into the appropriate structure.\n",
    "\n",
    "This feature is particularly useful when you need to extract specific information from text and want to ensure it follows a consistent structure for downstream processing.\n",
    "\n",
    "> Note: This is the same API format used by OpenAI's structured output feature. For more details, see the [OpenAI Documentation on Structured Outputs](https://platform.openai.com/docs/guides/structured-outputs)."
   ]
  },
  {
   "cell_type": "code",
   "execution_count": 14,
   "id": "5261f7c9-5ffc-4b8a-a041-49050cfd6dab",
   "metadata": {},
   "outputs": [
    {
     "name": "stderr",
     "output_type": "stream",
     "text": [
      "2025-03-07 15:06:37,532 - httpx - INFO - HTTP Request: POST http://localhost:51135/v1/chat/completions \"HTTP/1.1 200 OK\"\n"
     ]
    }
   ],
   "source": [
    "\n",
    "from openai import OpenAI\n",
    "\n",
    "class CalendarEvent(BaseModel):\n",
    "    name: str\n",
    "    date: str\n",
    "    participants: list[str]\n",
    "\n",
    "completion = openai_client.beta.chat.completions.parse(\n",
    "    model=\"model\",\n",
    "    messages=[\n",
    "        {\"role\": \"system\", \"content\": \"Extract the event information.\"},\n",
    "        {\"role\": \"user\", \"content\": \"Alice and Bob are going to a science fair on Friday.\"},\n",
    "    ],\n",
    "    response_format=CalendarEvent,\n",
    ")\n",
    "\n",
    "event = completion.choices[0].message.parsed"
   ]
  },
  {
   "cell_type": "markdown",
   "id": "ea023e57-6910-4fa8-b971-a985f8762e13",
   "metadata": {},
   "source": [
    "## Examining the Result\n",
    "\n",
    "Let's print out the structured output to see what the model extracted from our input text. Notice how the response is now a proper Python object with typed attributes rather than raw text."
   ]
  },
  {
   "cell_type": "code",
   "execution_count": 19,
   "id": "adb03a0a-601b-47cb-937a-a337bdadb619",
   "metadata": {},
   "outputs": [
    {
     "name": "stdout",
     "output_type": "stream",
     "text": [
      "Full event object: name='science fair' date='Friday' participants=['Alice', 'Bob']\n",
      "\n",
      "Event name: science fair\n",
      "Event date: Friday\n",
      "Participants: Alice, Bob\n",
      "\n",
      "Alice is attending!\n",
      "\n",
      "Updated participants: ['Alice', 'Bob', 'Charlie']\n",
      "\n",
      "As dictionary: {'name': 'science fair', 'date': 'Friday', 'participants': ['Alice', 'Bob', 'Charlie']}\n",
      "As JSON: {\"name\": \"science fair\", \"date\": \"Friday\", \"participants\": [\"Alice\", \"Bob\", \"Charlie\"]}\n"
     ]
    }
   ],
   "source": [
    "# Show the entire object\n",
    "print(f\"Full event object: {event}\")\n",
    "\n",
    "# Access individual attributes\n",
    "print(f\"\\nEvent name: {event.name}\")\n",
    "print(f\"Event date: {event.date}\")\n",
    "print(f\"Participants: {', '.join(event.participants)}\")\n",
    "\n",
    "# We can use it like any Python object\n",
    "if \"Alice\" in event.participants:\n",
    "    print(\"\\nAlice is attending!\")\n",
    "    \n",
    "# We can modify it\n",
    "event.participants.append(\"Charlie\")\n",
    "print(f\"\\nUpdated participants: {event.participants}\")\n",
    "\n",
    "# We can convert to dict or JSON\n",
    "import json\n",
    "print(f\"\\nAs dictionary: {event.model_dump()}\")\n",
    "print(f\"As JSON: {json.dumps(event.model_dump())}\")"
   ]
  },
  {
   "cell_type": "code",
   "execution_count": null,
   "id": "6fa84e9c-4b11-41d5-9561-d1af86bf5e9d",
   "metadata": {},
   "outputs": [],
   "source": []
  }
 ],
 "metadata": {
  "kernelspec": {
   "display_name": "Python 3 (ipykernel)",
   "language": "python",
   "name": "python3"
  },
  "language_info": {
   "codemirror_mode": {
    "name": "ipython",
    "version": 3
   },
   "file_extension": ".py",
   "mimetype": "text/x-python",
   "name": "python",
   "nbconvert_exporter": "python",
   "pygments_lexer": "ipython3",
   "version": "3.10.12"
  }
 },
 "nbformat": 4,
 "nbformat_minor": 5
}
