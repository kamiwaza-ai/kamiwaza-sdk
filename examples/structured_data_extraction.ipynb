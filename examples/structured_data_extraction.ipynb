{
 "cells": [
  {
   "cell_type": "markdown",
   "id": "b2020d21-3a4f-422f-902f-913dfb362599",
   "metadata": {},
   "source": [
    "# Install packages & Kamiwaza Client SDK"
   ]
  },
  {
   "cell_type": "code",
   "execution_count": 15,
   "id": "859f750d-f036-4930-a96d-d06b0674ad48",
   "metadata": {},
   "outputs": [],
   "source": [
    "import httpx\n",
    "from openai import OpenAI\n",
    "import pandas as pd\n",
    "import json\n",
    "from kamiwaza_client import KamiwazaClient\n",
    "import warnings\n",
    "warnings.filterwarnings('ignore')\n",
    "\n",
    "# Initialize Kamiwaza Client\n",
    "client = KamiwazaClient(\"http://localhost:7777/api/\")"
   ]
  },
  {
   "cell_type": "markdown",
   "id": "03e2aa50-b06b-4bf6-a4a2-124f50a62982",
   "metadata": {},
   "source": [
    "# Connect OpenAI Client to the Kamiwaza Deployment \n",
    "this was downloaded + deployed in `quickstart.ipynb`"
   ]
  },
  {
   "cell_type": "code",
   "execution_count": 20,
   "id": "d71072ff-f118-4cd6-aea2-7dc5cbd5b9cb",
   "metadata": {},
   "outputs": [
    {
     "name": "stdout",
     "output_type": "stream",
     "text": [
      "Using Qwen2.5-7B-Instruct-GGUF\n"
     ]
    }
   ],
   "source": [
    "# Find a valid deployment\n",
    "deployments = client.serving.list_deployments()\n",
    "valid_deployment = next((d for d in deployments if d.status == 'DEPLOYED' and d.instances), None)\n",
    "\n",
    "if valid_deployment is None:\n",
    "    raise ValueError(\"No valid deployments found. Please ensure a model is deployed.\")\n",
    "else:\n",
    "    print(f\"Using {valid_deployment.m_name}\")\n",
    "\n",
    "# Set up OpenAI client\n",
    "http_client = httpx.Client(\n",
    "    base_url=f\"http://localhost:{valid_deployment.lb_port}/v1\",\n",
    "    timeout=30.0,\n",
    "    follow_redirects=True\n",
    ")\n",
    "\n",
    "openai_client = OpenAI(\n",
    "    api_key=\"local\",\n",
    "    base_url=f\"http://localhost:{valid_deployment.lb_port}/v1\",\n",
    "    http_client=http_client\n",
    ")\n"
   ]
  },
  {
   "cell_type": "markdown",
   "id": "f7021bef-0621-49c6-a9c4-b91ec924f412",
   "metadata": {},
   "source": [
    "# Define functions to process csvs + prompt for JSON schema"
   ]
  },
  {
   "cell_type": "code",
   "execution_count": 25,
   "id": "ff796bf8-bbc6-42da-b9ed-b9fe8db9ab38",
   "metadata": {},
   "outputs": [],
   "source": [
    "# Function to read CSV files\n",
    "def read_csv(file_path):\n",
    "    return pd.read_csv(file_path)\n",
    "\n",
    "# Function to process a single row\n",
    "def process_row(row):\n",
    "    system_prompt = \"\"\"\n",
    "    You are a data standardization assistant. Your task is to convert input data into a standard JSON format.\n",
    "    The output should always strictly adhere to this schema:\n",
    "    {\n",
    "      \"name\": \"string\",\n",
    "      \"job_title\": \"string\",\n",
    "      \"email\": \"string\"\n",
    "    }\n",
    "    Ensure that the email is in a standard format (e.g., user@domain.com).\n",
    "    Only respond with the JSON object, no additional text.\n",
    "    \"\"\"\n",
    "    \n",
    "    user_prompt = f\"\"\"\n",
    "    Convert the following data into the standard format:\n",
    "    {json.dumps(row.to_dict())}\n",
    "\n",
    "    Please respond with only the JSON object, no additional text.\n",
    "    \"\"\"\n",
    "\n",
    "    try:\n",
    "        response = openai_client.chat.completions.create(\n",
    "            model=\"local-model\",\n",
    "            messages=[\n",
    "                {\"role\": \"system\", \"content\": system_prompt},\n",
    "                {\"role\": \"user\", \"content\": user_prompt}\n",
    "            ]\n",
    "        )\n",
    "        response_content = response.choices[0].message.content\n",
    "        print(f\"Raw response: {response_content}\")  # For debugging\n",
    "        return json.loads(response_content)\n",
    "    except json.JSONDecodeError as e:\n",
    "        print(f\"Invalid JSON in response: {e}\")\n",
    "        print(f\"Response content: {response_content}\")\n",
    "        return None\n",
    "    except Exception as e:\n",
    "        print(f\"Error processing row: {e}\")\n",
    "        return None\n",
    "\n",
    "# Function to process a DataFrame\n",
    "def process_dataframe(df):\n",
    "    return [process_row(row) for _, row in df.iterrows()]"
   ]
  },
  {
   "cell_type": "markdown",
   "id": "e8abae29-2135-405d-9920-a0a3c3342b9f",
   "metadata": {},
   "source": [
    "# Look how messy this is :("
   ]
  },
  {
   "cell_type": "code",
   "execution_count": 26,
   "id": "bb37c0a8-03b3-46b4-8240-f169e98b12e2",
   "metadata": {},
   "outputs": [
    {
     "name": "stdout",
     "output_type": "stream",
     "text": [
      "      full_name         job      email_address\n",
      "0      John Doe         CEO   john@example.com\n",
      "1    Jane Smith         CFO   jane@company.com\n",
      "2  Mike Johnson     Janitor   mike@example.com\n",
      "3   Sara Connor         CTO   sara@company.com\n",
      "4    James Dean  HR Manager  james@company.com\n",
      "----------------------------------------------------------------\n",
      "            Name                  Position              Email\n",
      "0      Doe, John   Chief Executive Officer   john@example.com\n",
      "1    Smith, Jane   Chief Financial Officer   jane@company.com\n",
      "2  Johnson, Mike                   Janitor   mike@example.com\n",
      "3   Connor, Sara  Chief Technology Officer   sara@company.com\n",
      "4    Dean, James                HR Manager  james@company.com\n",
      "----------------------------------------------------------------\n",
      "       Employee       Title                 Contact Info\n",
      "0      John Doe         CEO  john [at] example [dot] com\n",
      "1    Jane Smith         CFO      jane(at)company(dot)com\n",
      "2  Mike Johnson     Janitor             mike@example.com\n",
      "3   Sara Connor         CTO             sara@company.com\n",
      "4    James Dean  HR Manager            james@company.com\n",
      "----------------------------------------------------------------\n"
     ]
    }
   ],
   "source": [
    "# Take a look at the csvs\n",
    "csv_files = ['data/contacts_1.csv', 'data/contacts_2.csv', 'data/contacts_3.csv']\n",
    "for file in csv_files:\n",
    "    df = read_csv(file)\n",
    "    print(df)\n",
    "    print('----------------------------------------------------------------')"
   ]
  },
  {
   "cell_type": "markdown",
   "id": "66daf308-668e-46f1-8010-2ec2b09bd262",
   "metadata": {},
   "source": [
    "# Clean it with our locally deployed model"
   ]
  },
  {
   "cell_type": "code",
   "execution_count": null,
   "id": "18ffcdef-11fb-429c-b20b-b0636828b8a5",
   "metadata": {},
   "outputs": [
    {
     "name": "stderr",
     "output_type": "stream",
     "text": [
      "2024-12-27 16:21:39,452 - httpx - INFO - HTTP Request: POST http://localhost:51100/v1/chat/completions \"HTTP/1.1 200 OK\"\n"
     ]
    },
    {
     "name": "stdout",
     "output_type": "stream",
     "text": [
      "Raw response: {\n",
      "  \"name\": \"John Doe\",\n",
      "  \"job_title\": \"CEO\",\n",
      "  \"email\": \"john@example.com\"\n",
      "}\n"
     ]
    },
    {
     "name": "stderr",
     "output_type": "stream",
     "text": [
      "2024-12-27 16:21:40,464 - httpx - INFO - HTTP Request: POST http://localhost:51100/v1/chat/completions \"HTTP/1.1 200 OK\"\n"
     ]
    },
    {
     "name": "stdout",
     "output_type": "stream",
     "text": [
      "Raw response: {\n",
      "  \"name\": \"Jane Smith\",\n",
      "  \"job_title\": \"CFO\",\n",
      "  \"email\": \"jane@company.com\"\n",
      "}\n"
     ]
    },
    {
     "name": "stderr",
     "output_type": "stream",
     "text": [
      "2024-12-27 16:21:41,478 - httpx - INFO - HTTP Request: POST http://localhost:51100/v1/chat/completions \"HTTP/1.1 200 OK\"\n"
     ]
    },
    {
     "name": "stdout",
     "output_type": "stream",
     "text": [
      "Raw response: {\n",
      "  \"name\": \"Mike Johnson\",\n",
      "  \"job_title\": \"Janitor\",\n",
      "  \"email\": \"mike@example.com\"\n",
      "}\n"
     ]
    },
    {
     "name": "stderr",
     "output_type": "stream",
     "text": [
      "2024-12-27 16:21:42,509 - httpx - INFO - HTTP Request: POST http://localhost:51100/v1/chat/completions \"HTTP/1.1 200 OK\"\n"
     ]
    },
    {
     "name": "stdout",
     "output_type": "stream",
     "text": [
      "Raw response: {\n",
      "  \"name\": \"Sara Connor\",\n",
      "  \"job_title\": \"CTO\",\n",
      "  \"email\": \"sara@company.com\"\n",
      "}\n"
     ]
    },
    {
     "name": "stderr",
     "output_type": "stream",
     "text": [
      "2024-12-27 16:21:43,520 - httpx - INFO - HTTP Request: POST http://localhost:51100/v1/chat/completions \"HTTP/1.1 200 OK\"\n"
     ]
    },
    {
     "name": "stdout",
     "output_type": "stream",
     "text": [
      "Raw response: {\n",
      "  \"name\": \"James Dean\",\n",
      "  \"job_title\": \"HR Manager\",\n",
      "  \"email\": \"james@company.com\"\n",
      "}\n"
     ]
    },
    {
     "name": "stderr",
     "output_type": "stream",
     "text": [
      "2024-12-27 16:21:44,550 - httpx - INFO - HTTP Request: POST http://localhost:51100/v1/chat/completions \"HTTP/1.1 200 OK\"\n"
     ]
    },
    {
     "name": "stdout",
     "output_type": "stream",
     "text": [
      "Raw response: {\n",
      "  \"name\": \"Doe, John\",\n",
      "  \"job_title\": \"Chief Executive Officer\",\n",
      "  \"email\": \"john@example.com\"\n",
      "}\n"
     ]
    },
    {
     "name": "stderr",
     "output_type": "stream",
     "text": [
      "2024-12-27 16:21:45,614 - httpx - INFO - HTTP Request: POST http://localhost:51100/v1/chat/completions \"HTTP/1.1 200 OK\"\n"
     ]
    },
    {
     "name": "stdout",
     "output_type": "stream",
     "text": [
      "Raw response: {\n",
      "  \"name\": \"Smith, Jane\",\n",
      "  \"job_title\": \"Chief Financial Officer\",\n",
      "  \"email\": \"jane@company.com\"\n",
      "}\n"
     ]
    },
    {
     "name": "stderr",
     "output_type": "stream",
     "text": [
      "2024-12-27 16:21:46,648 - httpx - INFO - HTTP Request: POST http://localhost:51100/v1/chat/completions \"HTTP/1.1 200 OK\"\n"
     ]
    },
    {
     "name": "stdout",
     "output_type": "stream",
     "text": [
      "Raw response: {\n",
      "  \"name\": \"Johnson, Mike\",\n",
      "  \"job_title\": \"Janitor\",\n",
      "  \"email\": \"mike@example.com\"\n",
      "}\n"
     ]
    },
    {
     "name": "stderr",
     "output_type": "stream",
     "text": [
      "2024-12-27 16:21:47,708 - httpx - INFO - HTTP Request: POST http://localhost:51100/v1/chat/completions \"HTTP/1.1 200 OK\"\n"
     ]
    },
    {
     "name": "stdout",
     "output_type": "stream",
     "text": [
      "Raw response: {\n",
      "  \"name\": \"Connor, Sara\",\n",
      "  \"job_title\": \"Chief Technology Officer\",\n",
      "  \"email\": \"sara@company.com\"\n",
      "}\n"
     ]
    }
   ],
   "source": [
    "# Read and process each CSV file\n",
    "all_employees = []\n",
    "\n",
    "for file in csv_files:\n",
    "    df = read_csv(file)\n",
    "    all_employees.extend(process_dataframe(df))\n",
    "\n",
    "# Create the final JSON structure\n",
    "final_json = {\"employees\": all_employees}\n",
    "\n",
    "# Save the result to a JSON file\n",
    "with open('data/standardized_contacts.json', 'w') as f:\n",
    "    json.dump(final_json, f, indent=2)\n",
    "\n",
    "print(\"Processing complete. Results saved to standardized_contacts.json\")\n",
    "\n"
   ]
  },
  {
   "cell_type": "code",
   "execution_count": null,
   "id": "f587d4de-bf06-4109-bb49-488169d8df8c",
   "metadata": {},
   "outputs": [],
   "source": []
  },
  {
   "cell_type": "code",
   "execution_count": null,
   "id": "10fec9a2-a596-49cc-898b-5003e916ccac",
   "metadata": {},
   "outputs": [],
   "source": []
  }
 ],
 "metadata": {
  "kernelspec": {
   "display_name": "Python 3 (ipykernel)",
   "language": "python",
   "name": "python3"
  },
  "language_info": {
   "codemirror_mode": {
    "name": "ipython",
    "version": 3
   },
   "file_extension": ".py",
   "mimetype": "text/x-python",
   "name": "python",
   "nbconvert_exporter": "python",
   "pygments_lexer": "ipython3",
   "version": "3.10.12"
  }
 },
 "nbformat": 4,
 "nbformat_minor": 5
}
